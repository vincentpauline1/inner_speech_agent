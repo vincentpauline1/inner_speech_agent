{
 "cells": [
  {
   "cell_type": "code",
   "execution_count": 1,
   "id": "3f31daa2-030f-4eee-b5c6-b80a71e0d983",
   "metadata": {},
   "outputs": [],
   "source": [
    "import sys\n",
    "sys.path.append(\"..\")\n",
    "\n",
    "from glob import glob\n",
    "import matplotlib.pyplot as plt\n",
    "import ipywidgets as ipw\n",
    "from IPython.display import Audio\n",
    "import numpy as np\n",
    "import pandas as pd\n",
    "import pickle\n",
    "import yaml\n",
    "\n",
    "from lib.notebooks import plot_groups_metrics\n",
    "from communicative_agent import CommunicativeAgent"
   ]
  },
  {
   "cell_type": "code",
   "execution_count": 2,
   "id": "0568ed6a-56ec-4209-9324-ba4acf68b948",
   "metadata": {},
   "outputs": [],
   "source": [
    "agents_path = glob(\"../out/communicative_agent/*/\")\n",
    "agents_path.sort()"
   ]
  },
  {
   "cell_type": "code",
   "execution_count": 3,
   "id": "e55f3269-7d09-4ba9-864f-e47996122503",
   "metadata": {},
   "outputs": [],
   "source": [
    "# Dictionary to store metrics for different groups of agents\n",
    "groups_metrics = {}\n",
    "\n",
    "# Dictionary to store various parameters and performance metrics for each agent\n",
    "agents_loss = {\n",
    "    \"path\": [],                        # Path to agent directory\n",
    "    \"datasets\": [],                    # Training datasets used\n",
    "    \"inverse_learning_rate\": [],       # Learning rate for inverse model\n",
    "    \"inverse_layers\": [],             # Layer configuration of inverse model\n",
    "    \"inverse_dropout_p\": [],          # Dropout probability for inverse model\n",
    "    \"direct_learning_rate\": [],       # Learning rate for direct model\n",
    "    \"direct_layers\": [],              # Layer configuration of direct model\n",
    "    \"direct_dropout_p\": [],           # Dropout probability for direct model\n",
    "    \"jerk_weight\": [],               # Weight of jerk loss term\n",
    "    \"direct_estimation_error\": [],    # Test error of direct model\n",
    "    \"inverse_estimation_error\": [],   # Test error of inverse model\n",
    "    \"jerk\": [],                      # Jerk metric on test set\n",
    "    \"repetition_error\": [],          # Repetition error on test set\n",
    "}\n",
    "\n",
    "# Iterate through all agent directories to collect metrics and parameters\n",
    "for agent_path in agents_path:\n",
    "    # Load agent configuration without neural networks for efficiency\n",
    "    agent = CommunicativeAgent.reload(agent_path, load_nn=False)\n",
    "    config = agent.config\n",
    "    \n",
    "    # Load stored metrics from training\n",
    "    with open(\"%s/metrics.pickle\" % agent_path, \"rb\") as f:\n",
    "        metrics = pickle.load(f)\n",
    "    \n",
    "    # Store basic agent information\n",
    "    agents_loss[\"path\"].append(agent_path[-5:-1])\n",
    "    agents_loss[\"datasets\"].append(\",\".join(agent.sound_quantizer.config['dataset']['names']))\n",
    "\n",
    "    # Store inverse model parameters\n",
    "    agents_loss[\"inverse_learning_rate\"].append(config['training']['inverse_model_learning_rate'])\n",
    "    agents_loss[\"inverse_layers\"].append(f\"{config['model']['inverse_model']['num_layers']}x{config['model']['inverse_model']['hidden_size']}\")\n",
    "    agents_loss[\"inverse_dropout_p\"].append(config['model']['inverse_model']['dropout_p'])\n",
    "\n",
    "    # Store direct model parameters, handling cases where synthesizer is used as direct model\n",
    "    if 'use_synth_as_direct_model' not in config['model']:\n",
    "        agents_loss[\"direct_learning_rate\"].append(config['training']['direct_model_learning_rate'])\n",
    "        agents_loss[\"direct_layers\"].append(f\"{len(config['model']['direct_model']['hidden_layers'])}x{config['model']['direct_model']['hidden_layers'][0]}\")\n",
    "        agents_loss[\"direct_dropout_p\"].append(config['model']['direct_model']['dropout_p'])\n",
    "    else:\n",
    "        # Use placeholder values when synthesizer is used as direct model\n",
    "        agents_loss[\"direct_learning_rate\"].append(0)\n",
    "        agents_loss[\"direct_layers\"].append(\"synth\")\n",
    "        agents_loss[\"direct_dropout_p\"].append(0)\n",
    "    \n",
    "    agents_loss[\"jerk_weight\"].append(config['training']['jerk_loss_weight'])\n",
    "\n",
    "    # Find index of best validation performance for reporting test metrics\n",
    "    final_loss_index = np.argmin(metrics[\"validation\"][\"inverse_model_repetition_error\"])\n",
    "    \n",
    "    # Store test performance metrics\n",
    "    if 'use_synth_as_direct_model' not in config['model']:\n",
    "        agents_loss[\"direct_estimation_error\"].append(metrics[\"test\"][\"direct_model_estimation_error\"][final_loss_index])\n",
    "    else:\n",
    "        agents_loss[\"direct_estimation_error\"].append(0)\n",
    "\n",
    "    agents_loss[\"inverse_estimation_error\"].append(metrics[\"test\"][\"inverse_model_estimation_error\"][final_loss_index])\n",
    "    agents_loss[\"jerk\"].append(metrics[\"test\"][\"inverse_model_jerk\"][final_loss_index])\n",
    "    agents_loss[\"repetition_error\"].append(metrics[\"test\"][\"inverse_model_repetition_error\"][final_loss_index])\n",
    "    \n",
    "    # Create group name based on key configuration parameters\n",
    "    group_name = \"\\n\".join((\n",
    "        f\"datasets={','.join(agent.sound_quantizer.config['dataset']['names'])}\",\n",
    "        f\"synth_art={agent.synthesizer.config['dataset']['art_type']}\",\n",
    "        f\"jerk_w={config['training']['jerk_loss_weight']}\",\n",
    "        # f\"frame_padding={config['model']['sound_quantizer']['frame_padding']}\",\n",
    "    ))\n",
    "    \n",
    "    # Store metrics for this group\n",
    "    if group_name not in groups_metrics:\n",
    "        groups_metrics[group_name] = {}\n",
    "    groups_metrics[group_name][agent_path] = metrics\n",
    "\n",
    "# Convert collected data to pandas DataFrame for easier analysis\n",
    "agents_loss = pd.DataFrame(agents_loss)"
   ]
  },
  {
   "cell_type": "code",
   "execution_count": 4,
   "id": "bad8ffc3-1560-476b-a319-256232d04636",
   "metadata": {},
   "outputs": [
    {
     "data": {
      "application/vnd.jupyter.widget-view+json": {
       "model_id": "2ce757f5186842449800c52f2fcc0056",
       "version_major": 2,
       "version_minor": 0
      },
      "text/plain": [
       "interactive(children=(Dropdown(description='measure', index=12, options=('path', 'datasets', 'inverse_learning…"
      ]
     },
     "metadata": {},
     "output_type": "display_data"
    }
   ],
   "source": [
    "# Extract unique dataset names and jerk weight values from the agents_loss DataFrame\n",
    "datasets = pd.unique(agents_loss[\"datasets\"])\n",
    "jerk_weights = pd.unique(agents_loss[\"jerk_weight\"])\n",
    "\n",
    "def show_top_agents(measure=\"repetition_error\", datasets=datasets[0], jerk_weight=jerk_weights[0], \n",
    "                   use_synth_as_direct=False, ascending=True):\n",
    "    \"\"\"\n",
    "    Display top performing agents based on specified criteria and performance measure.\n",
    "    \n",
    "    Args:\n",
    "        measure (str): Performance metric to sort by (default: \"repetition_error\")\n",
    "        datasets (str): Dataset name to filter results\n",
    "        jerk_weight (float): Jerk weight value to filter results  \n",
    "        use_synth_as_direct (bool): If True, show only agents using synthesizer as direct model\n",
    "        ascending (bool): Sort order - True for ascending (better), False for descending\n",
    "    \n",
    "    Returns:\n",
    "        Displays DataFrame of at most top 30 agents matching criteria, sorted by performance measure\n",
    "    \"\"\"\n",
    "    # Filter agents by selected dataset\n",
    "    subset = agents_loss[agents_loss[\"datasets\"] == datasets]\n",
    "    # Further filter by jerk weight parameter\n",
    "    subset = subset[subset[\"jerk_weight\"] == jerk_weight]\n",
    "    \n",
    "    # Filter based on model architecture choice\n",
    "    if use_synth_as_direct:\n",
    "        subset = subset[subset[\"direct_layers\"] == \"synth\"]  # Only synthesizer-as-direct models\n",
    "    else:\n",
    "        subset = subset[subset[\"direct_layers\"] != \"synth\"]  # Only neural network models\n",
    "    \n",
    "    # Display at most top 30 agents sorted by the specified measure\n",
    "    display(subset.sort_values(measure, ascending=ascending).head(30))\n",
    "\n",
    "# Create interactive widget to explore agent performances\n",
    "ipw.interactive(show_top_agents, \n",
    "                measure=agents_loss,  # Available performance metrics\n",
    "                datasets=datasets,    # Dataset options\n",
    "                jerk_weight=jerk_weights,  # Jerk weight options\n",
    "                use_synth_as_direct=False, # Toggle synthesizer vs neural network models\n",
    "                ascending=True)       # Toggle sort order"
   ]
  },
  {
   "cell_type": "code",
   "execution_count": 5,
   "id": "f6fbe15c-e469-4357-a393-de44c63f0506",
   "metadata": {},
   "outputs": [
    {
     "data": {
      "application/vnd.jupyter.widget-view+json": {
       "model_id": "f1634eb9bf344655a51c3eeaa1ff4c42",
       "version_major": 2,
       "version_minor": 0
      },
      "text/plain": [
       "interactive(children=(Dropdown(description='split_name', index=2, options=('train', 'validation', 'test'), val…"
      ]
     },
     "metadata": {},
     "output_type": "display_data"
    }
   ],
   "source": [
    "# Define key performance metrics to visualize\n",
    "# Uncomment additional metrics as needed for deeper analysis\n",
    "metrics_name = [\n",
    "    # \"sound_quantizer_reconstruction_error\",  # Error in reconstructing original sound\n",
    "    # \"sound_quantizer_vq_loss\",              # Vector quantization loss\n",
    "    # \"direct_model_estimation_error\",         # Error in direct model predictions\n",
    "    \"inverse_model_estimation_error\",        # Error in inverse model parameter estimation\n",
    "    \"inverse_model_repetition_error\",        # Consistency error across repeated trials\n",
    "    \"inverse_model_jerk\",                    # Smoothness of generated trajectories\n",
    "]\n",
    "\n",
    "def show_metrics(split_name=\"test\"):\n",
    "    \"\"\"\n",
    "    Visualize training metrics across different data splits.\n",
    "    \n",
    "    Args:\n",
    "        split_name (str): Data split to analyze - \"train\", \"validation\", or \"test\"\n",
    "                         Defaults to \"test\" split.\n",
    "    \n",
    "    Displays:\n",
    "        Interactive plot showing the progression of selected metrics over training\n",
    "        for the specified data split. Metrics are color-coded and labeled for clarity.\n",
    "    \"\"\"\n",
    "    plot_groups_metrics(groups_metrics, metrics_name, split_name)\n",
    "\n",
    "# Create interactive widget to toggle between different data splits\n",
    "# This allows quick comparison of model performance across train/val/test sets\n",
    "display(ipw.interactive(show_metrics, split_name=[\"train\", \"validation\", \"test\"]))"
   ]
  }
 ],
 "metadata": {
  "kernelspec": {
   "display_name": "Python 3",
   "language": "python",
   "name": "python3"
  },
  "language_info": {
   "codemirror_mode": {
    "name": "ipython",
    "version": 3
   },
   "file_extension": ".py",
   "mimetype": "text/x-python",
   "name": "python",
   "nbconvert_exporter": "python",
   "pygments_lexer": "ipython3",
   "version": "3.10.12"
  }
 },
 "nbformat": 4,
 "nbformat_minor": 5
}
