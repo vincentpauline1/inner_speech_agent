{
 "cells": [
  {
   "cell_type": "code",
   "execution_count": 1,
   "id": "ffa60e6b-f469-470a-a8fb-069cd0085c66",
   "metadata": {},
   "outputs": [
    {
     "name": "stdout",
     "output_type": "stream",
     "text": [
      "current path: /mnt/c/Users/vpaul/OneDrive - CentraleSupelec/Inner_Speech/agent/imitative_agent\n"
     ]
    }
   ],
   "source": [
    "import sys\n",
    "sys.path.append(\"..\")\n",
    "\n",
    "from glob import glob\n",
    "import matplotlib.pyplot as plt\n",
    "import ipywidgets as ipw\n",
    "from IPython.display import Audio\n",
    "import numpy as np \n",
    "import pickle\n",
    "\n",
    "from imitative_agent import ImitativeAgent\n",
    "from lib.dataset_wrapper import Dataset\n",
    "from lib.notebooks import show_ema\n",
    "from external import lpcynet"
   ]
  },
  {
   "cell_type": "code",
   "execution_count": 2,
   "id": "a63cef62",
   "metadata": {},
   "outputs": [],
   "source": [
    "###############\n",
    "# Test LPCNET #\n",
    "###############\n",
    "from scipy.io import wavfile\n",
    "\n",
    "# Read input wav file\n",
    "sampling_rate, pcm = wavfile.read(\"../external/lpcynet/item_0000.wav\")\n",
    "# Verify wav file compatibility with LPCNet requirements:\n",
    "# - 16kHz sampling rate\n",
    "# - 16-bit integer PCM format\n",
    "assert sampling_rate == 16000 and pcm.dtype == \"int16\"\n",
    "\n",
    "# Extract LPCNet features from audio\n",
    "# Returns a float32 numpy array of shape (frame_number, features_dimension)\n",
    "# features_dimension = 20, with the first 18 numbers representing the ceptrum\n",
    "# and the last 2 representing respectively the period and the correlation parameters\n",
    "lpcnet_features = lpcynet.analyze_frames(pcm)\n",
    "\n",
    "# Resynthesize audio from LPCNet features\n",
    "resynthesized_pcm = lpcynet.synthesize_frames(lpcnet_features)\n",
    "\n",
    "# Save resynthesized audio to wav file\n",
    "# Using same sampling rate (16kHz) as input\n",
    "wavfile.write(\"resynth3.wav\", 16000, resynthesized_pcm)"
   ]
  },
  {
   "cell_type": "code",
   "execution_count": 3,
   "id": "04d2cc26",
   "metadata": {},
   "outputs": [
    {
     "name": "stdout",
     "output_type": "stream",
     "text": [
      "['../out/imitative_agent1_0jerk/8b2217cf868c4fefa341392f258fd81a-0/']\n"
     ]
    }
   ],
   "source": [
    "from glob import glob\n",
    "from scipy.io.wavfile import write\n",
    "from imitative_agent import ImitativeAgent\n",
    "from lib.dataset_wrapper import Dataset\n",
    "from lib.notebooks import show_ema\n",
    "from external import lpcynet\n",
    "agents_path = glob(\"../out/imitative_agent1_0jerk/*/\") # Path to imitative agent directory\n",
    "agents_path.sort()\n",
    "agents_path=[agents_path[0]] # Select agent to save repetitions for\n",
    "print(agents_path)"
   ]
  },
  {
   "cell_type": "code",
   "execution_count": 5,
   "id": "e339cbfe",
   "metadata": {},
   "outputs": [
    {
     "name": "stdout",
     "output_type": "stream",
     "text": [
      "{'dataset': {'batch_size': 8, 'datasplits_size': [64, 16, 20], 'names': ['pb2007'], 'num_workers': 6, 'shuffle_between_epochs': True, 'sound_type': 'cepstrum'}, 'model': {'direct_model': {'activation': 'relu', 'batch_norm': True, 'dropout_p': 0.25, 'hidden_layers': [256, 256, 256, 256]}, 'inverse_model': {'bidirectional': True, 'dropout_p': 0.25, 'hidden_size': 32, 'num_layers': 2}}, 'synthesizer': {'name': 'ea587b76c95fecef01cfd16c7f5f289d-0/'}, 'training': {'jerk_loss_ceil': 0, 'jerk_loss_weight': 0, 'learning_rate': 0.001, 'max_epochs': 500, 'patience': 25}}\n",
      "{'direct_model': {'activation': 'relu', 'batch_norm': True, 'dropout_p': 0.25, 'hidden_layers': [256, 256, 256, 256]}, 'inverse_model': {'bidirectional': True, 'dropout_p': 0.25, 'hidden_size': 32, 'num_layers': 2}}\n"
     ]
    },
    {
     "ename": "KeyboardInterrupt",
     "evalue": "",
     "output_type": "error",
     "traceback": [
      "\u001b[0;31m---------------------------------------------------------------------------\u001b[0m",
      "\u001b[0;31mKeyboardInterrupt\u001b[0m                         Traceback (most recent call last)",
      "Cell \u001b[0;32mIn[5], line 3\u001b[0m\n\u001b[1;32m      1\u001b[0m agent_path \u001b[38;5;241m=\u001b[39m agents_path[\u001b[38;5;241m0\u001b[39m]\n\u001b[0;32m----> 3\u001b[0m agent \u001b[38;5;241m=\u001b[39m \u001b[43mImitativeAgent\u001b[49m\u001b[38;5;241;43m.\u001b[39;49m\u001b[43mreload\u001b[49m\u001b[43m(\u001b[49m\u001b[43magent_path\u001b[49m\u001b[43m)\u001b[49m\n\u001b[1;32m      5\u001b[0m sound_type \u001b[38;5;241m=\u001b[39m agent\u001b[38;5;241m.\u001b[39msynthesizer\u001b[38;5;241m.\u001b[39mconfig[\u001b[38;5;124m\"\u001b[39m\u001b[38;5;124mdataset\u001b[39m\u001b[38;5;124m\"\u001b[39m][\u001b[38;5;124m\"\u001b[39m\u001b[38;5;124msound_type\u001b[39m\u001b[38;5;124m\"\u001b[39m]\n\u001b[1;32m      6\u001b[0m art_type \u001b[38;5;241m=\u001b[39m agent\u001b[38;5;241m.\u001b[39msynthesizer\u001b[38;5;241m.\u001b[39mconfig[\u001b[38;5;124m\"\u001b[39m\u001b[38;5;124mdataset\u001b[39m\u001b[38;5;124m\"\u001b[39m][\u001b[38;5;124m\"\u001b[39m\u001b[38;5;124mart_type\u001b[39m\u001b[38;5;124m\"\u001b[39m]\n",
      "File \u001b[0;32m/mnt/c/Users/vpaul/OneDrive - CentraleSupelec/Inner_Speech/agent/imitative_agent/imitative_agent.py:120\u001b[0m, in \u001b[0;36mImitativeAgent.reload\u001b[0;34m(save_path, load_nn)\u001b[0m\n\u001b[1;32m    118\u001b[0m     config \u001b[38;5;241m=\u001b[39m yaml\u001b[38;5;241m.\u001b[39msafe_load(f)\n\u001b[1;32m    119\u001b[0m     \u001b[38;5;28mprint\u001b[39m(config)\n\u001b[0;32m--> 120\u001b[0m agent \u001b[38;5;241m=\u001b[39m \u001b[43mImitativeAgent\u001b[49m\u001b[43m(\u001b[49m\u001b[43mconfig\u001b[49m\u001b[43m)\u001b[49m\n\u001b[1;32m    122\u001b[0m \u001b[38;5;28;01mwith\u001b[39;00m \u001b[38;5;28mopen\u001b[39m(save_path \u001b[38;5;241m+\u001b[39m \u001b[38;5;124m\"\u001b[39m\u001b[38;5;124m/sound_scaler.pickle\u001b[39m\u001b[38;5;124m\"\u001b[39m, \u001b[38;5;124m\"\u001b[39m\u001b[38;5;124mrb\u001b[39m\u001b[38;5;124m\"\u001b[39m) \u001b[38;5;28;01mas\u001b[39;00m f:\n\u001b[1;32m    123\u001b[0m     agent\u001b[38;5;241m.\u001b[39msound_scaler \u001b[38;5;241m=\u001b[39m pickle\u001b[38;5;241m.\u001b[39mload(f)\n",
      "File \u001b[0;32m/mnt/c/Users/vpaul/OneDrive - CentraleSupelec/Inner_Speech/agent/imitative_agent/imitative_agent.py:32\u001b[0m, in \u001b[0;36mImitativeAgent.__init__\u001b[0;34m(self, config, load_nn)\u001b[0m\n\u001b[1;32m     29\u001b[0m \u001b[38;5;28;01mif\u001b[39;00m load_nn:\n\u001b[1;32m     30\u001b[0m     \u001b[38;5;28mprint\u001b[39m(\u001b[38;5;28mself\u001b[39m\u001b[38;5;241m.\u001b[39mconfig[\u001b[38;5;124m\"\u001b[39m\u001b[38;5;124mmodel\u001b[39m\u001b[38;5;124m\"\u001b[39m])\n\u001b[0;32m---> 32\u001b[0m     \u001b[38;5;28mself\u001b[39m\u001b[38;5;241m.\u001b[39msynthesizer \u001b[38;5;241m=\u001b[39m \u001b[43mSynthesizer\u001b[49m\u001b[38;5;241;43m.\u001b[39;49m\u001b[43mreload\u001b[49m\u001b[43m(\u001b[49m\n\u001b[1;32m     33\u001b[0m \u001b[43m        \u001b[49m\u001b[38;5;124;43m\"\u001b[39;49m\u001b[38;5;132;43;01m%s\u001b[39;49;00m\u001b[38;5;124;43m/\u001b[39;49m\u001b[38;5;132;43;01m%s\u001b[39;49;00m\u001b[38;5;124;43m\"\u001b[39;49m\u001b[43m \u001b[49m\u001b[38;5;241;43m%\u001b[39;49m\u001b[43m \u001b[49m\u001b[43m(\u001b[49m\u001b[43mSYNTHESIZERS_PATH\u001b[49m\u001b[43m,\u001b[49m\u001b[43m \u001b[49m\u001b[43mconfig\u001b[49m\u001b[43m[\u001b[49m\u001b[38;5;124;43m\"\u001b[39;49m\u001b[38;5;124;43msynthesizer\u001b[39;49m\u001b[38;5;124;43m\"\u001b[39;49m\u001b[43m]\u001b[49m\u001b[43m[\u001b[49m\u001b[38;5;124;43m\"\u001b[39;49m\u001b[38;5;124;43mname\u001b[39;49m\u001b[38;5;124;43m\"\u001b[39;49m\u001b[43m]\u001b[49m\u001b[43m)\u001b[49m\n\u001b[1;32m     34\u001b[0m \u001b[43m    \u001b[49m\u001b[43m)\u001b[49m\n\u001b[1;32m     35\u001b[0m     \u001b[38;5;28mprint\u001b[39m(\u001b[38;5;28mself\u001b[39m\u001b[38;5;241m.\u001b[39mconfig[\u001b[38;5;124m\"\u001b[39m\u001b[38;5;124mmodel\u001b[39m\u001b[38;5;124m\"\u001b[39m])\n\u001b[1;32m     36\u001b[0m     \u001b[38;5;28mself\u001b[39m\u001b[38;5;241m.\u001b[39m_build_nn(\u001b[38;5;28mself\u001b[39m\u001b[38;5;241m.\u001b[39mconfig[\u001b[38;5;124m\"\u001b[39m\u001b[38;5;124mmodel\u001b[39m\u001b[38;5;124m\"\u001b[39m])\n",
      "File \u001b[0;32m/mnt/c/Users/vpaul/OneDrive - CentraleSupelec/Inner_Speech/agent/imitative_agent/../synthesizer/synthesizer.py:80\u001b[0m, in \u001b[0;36mSynthesizer.reload\u001b[0;34m(save_path, load_nn)\u001b[0m\n\u001b[1;32m     78\u001b[0m \u001b[38;5;28;01mwith\u001b[39;00m \u001b[38;5;28mopen\u001b[39m(save_path \u001b[38;5;241m+\u001b[39m \u001b[38;5;124m\"\u001b[39m\u001b[38;5;124m/config.yaml\u001b[39m\u001b[38;5;124m\"\u001b[39m, \u001b[38;5;124m\"\u001b[39m\u001b[38;5;124mr\u001b[39m\u001b[38;5;124m\"\u001b[39m) \u001b[38;5;28;01mas\u001b[39;00m f:\n\u001b[1;32m     79\u001b[0m     config \u001b[38;5;241m=\u001b[39m yaml\u001b[38;5;241m.\u001b[39msafe_load(f)\n\u001b[0;32m---> 80\u001b[0m synthesizer \u001b[38;5;241m=\u001b[39m \u001b[43mSynthesizer\u001b[49m\u001b[43m(\u001b[49m\u001b[43mconfig\u001b[49m\u001b[43m,\u001b[49m\u001b[43m \u001b[49m\u001b[43mload_nn\u001b[49m\u001b[38;5;241;43m=\u001b[39;49m\u001b[43mload_nn\u001b[49m\u001b[43m)\u001b[49m\n\u001b[1;32m     82\u001b[0m \u001b[38;5;28;01mwith\u001b[39;00m \u001b[38;5;28mopen\u001b[39m(save_path \u001b[38;5;241m+\u001b[39m \u001b[38;5;124m\"\u001b[39m\u001b[38;5;124m/sound_scaler.pickle\u001b[39m\u001b[38;5;124m\"\u001b[39m, \u001b[38;5;124m\"\u001b[39m\u001b[38;5;124mrb\u001b[39m\u001b[38;5;124m\"\u001b[39m) \u001b[38;5;28;01mas\u001b[39;00m f:\n\u001b[1;32m     83\u001b[0m     synthesizer\u001b[38;5;241m.\u001b[39msound_scaler \u001b[38;5;241m=\u001b[39m pickle\u001b[38;5;241m.\u001b[39mload(f)\n",
      "File \u001b[0;32m/mnt/c/Users/vpaul/OneDrive - CentraleSupelec/Inner_Speech/agent/imitative_agent/../synthesizer/synthesizer.py:19\u001b[0m, in \u001b[0;36mSynthesizer.__init__\u001b[0;34m(self, config, load_nn)\u001b[0m\n\u001b[1;32m     17\u001b[0m \u001b[38;5;28mself\u001b[39m\u001b[38;5;241m.\u001b[39mart_scaler \u001b[38;5;241m=\u001b[39m StandardScaler()\n\u001b[1;32m     18\u001b[0m \u001b[38;5;28mself\u001b[39m\u001b[38;5;241m.\u001b[39mdatasplits \u001b[38;5;241m=\u001b[39m \u001b[38;5;28;01mNone\u001b[39;00m\n\u001b[0;32m---> 19\u001b[0m \u001b[38;5;28mself\u001b[39m\u001b[38;5;241m.\u001b[39mdataset \u001b[38;5;241m=\u001b[39m \u001b[43mDataset\u001b[49m\u001b[43m(\u001b[49m\u001b[43mconfig\u001b[49m\u001b[43m[\u001b[49m\u001b[38;5;124;43m\"\u001b[39;49m\u001b[38;5;124;43mdataset\u001b[39;49m\u001b[38;5;124;43m\"\u001b[39;49m\u001b[43m]\u001b[49m\u001b[43m[\u001b[49m\u001b[38;5;124;43m\"\u001b[39;49m\u001b[38;5;124;43mname\u001b[39;49m\u001b[38;5;124;43m\"\u001b[39;49m\u001b[43m]\u001b[49m\u001b[43m)\u001b[49m\n\u001b[1;32m     21\u001b[0m \u001b[38;5;28;01mif\u001b[39;00m load_nn:\n\u001b[1;32m     22\u001b[0m     \u001b[38;5;28mself\u001b[39m\u001b[38;5;241m.\u001b[39m_build_nn(\u001b[38;5;28mself\u001b[39m\u001b[38;5;241m.\u001b[39mconfig[\u001b[38;5;124m\"\u001b[39m\u001b[38;5;124mmodel\u001b[39m\u001b[38;5;124m\"\u001b[39m])\n",
      "File \u001b[0;32m/mnt/c/Users/vpaul/OneDrive - CentraleSupelec/Inner_Speech/agent/imitative_agent/../lib/dataset_wrapper.py:35\u001b[0m, in \u001b[0;36mDataset.__init__\u001b[0;34m(self, name)\u001b[0m\n\u001b[1;32m     32\u001b[0m     \u001b[38;5;28;01mwith\u001b[39;00m \u001b[38;5;28mopen\u001b[39m(\u001b[38;5;124m\"\u001b[39m\u001b[38;5;132;01m%s\u001b[39;00m\u001b[38;5;124m/ema_limits.pickle\u001b[39m\u001b[38;5;124m\"\u001b[39m \u001b[38;5;241m%\u001b[39m \u001b[38;5;28mself\u001b[39m\u001b[38;5;241m.\u001b[39mpath, \u001b[38;5;124m\"\u001b[39m\u001b[38;5;124mrb\u001b[39m\u001b[38;5;124m\"\u001b[39m) \u001b[38;5;28;01mas\u001b[39;00m f:\n\u001b[1;32m     33\u001b[0m         \u001b[38;5;28mself\u001b[39m\u001b[38;5;241m.\u001b[39mema_limits \u001b[38;5;241m=\u001b[39m pickle\u001b[38;5;241m.\u001b[39mload(f)\n\u001b[0;32m---> 35\u001b[0m \u001b[38;5;28mself\u001b[39m\u001b[38;5;241m.\u001b[39mlab \u001b[38;5;241m=\u001b[39m \u001b[38;5;28;43mself\u001b[39;49m\u001b[38;5;241;43m.\u001b[39;49m\u001b[43m_get_items_lab\u001b[49m\u001b[43m(\u001b[49m\u001b[43m)\u001b[49m\n\u001b[1;32m     36\u001b[0m \u001b[38;5;28mself\u001b[39m\u001b[38;5;241m.\u001b[39mitems_transcription \u001b[38;5;241m=\u001b[39m \u001b[38;5;28mself\u001b[39m\u001b[38;5;241m.\u001b[39m_get_items_transcription()\n\u001b[1;32m     38\u001b[0m \u001b[38;5;28mself\u001b[39m\u001b[38;5;241m.\u001b[39mhas_palate \u001b[38;5;241m=\u001b[39m os\u001b[38;5;241m.\u001b[39mpath\u001b[38;5;241m.\u001b[39misfile(\u001b[38;5;124m\"\u001b[39m\u001b[38;5;132;01m%s\u001b[39;00m\u001b[38;5;124m/palate.bin\u001b[39m\u001b[38;5;124m\"\u001b[39m \u001b[38;5;241m%\u001b[39m \u001b[38;5;28mself\u001b[39m\u001b[38;5;241m.\u001b[39mpath)\n",
      "File \u001b[0;32m/mnt/c/Users/vpaul/OneDrive - CentraleSupelec/Inner_Speech/agent/imitative_agent/../lib/dataset_wrapper.py:52\u001b[0m, in \u001b[0;36mDataset._get_items_lab\u001b[0;34m(self)\u001b[0m\n\u001b[1;32m     50\u001b[0m \u001b[38;5;28;01mfor\u001b[39;00m item_path \u001b[38;5;129;01min\u001b[39;00m items_path:\n\u001b[1;32m     51\u001b[0m     item_name \u001b[38;5;241m=\u001b[39m utils\u001b[38;5;241m.\u001b[39mparse_item_name(item_path)\n\u001b[0;32m---> 52\u001b[0m     item_data \u001b[38;5;241m=\u001b[39m \u001b[43mutils\u001b[49m\u001b[38;5;241;43m.\u001b[39;49m\u001b[43mread_lab_file\u001b[49m\u001b[43m(\u001b[49m\u001b[43mitem_path\u001b[49m\u001b[43m)\u001b[49m\n\u001b[1;32m     53\u001b[0m     items_lab[item_name] \u001b[38;5;241m=\u001b[39m item_data\n\u001b[1;32m     55\u001b[0m \u001b[38;5;28;01mreturn\u001b[39;00m items_lab\n",
      "File \u001b[0;32m/mnt/c/Users/vpaul/OneDrive - CentraleSupelec/Inner_Speech/agent/imitative_agent/../lib/utils.py:71\u001b[0m, in \u001b[0;36mread_lab_file\u001b[0;34m(filepath, resolution_multiplier)\u001b[0m\n\u001b[1;32m     70\u001b[0m \u001b[38;5;28;01mdef\u001b[39;00m \u001b[38;5;21mread_lab_file\u001b[39m(filepath, resolution_multiplier\u001b[38;5;241m=\u001b[39m\u001b[38;5;241m1\u001b[39m):\n\u001b[0;32m---> 71\u001b[0m     \u001b[38;5;28;01mwith\u001b[39;00m \u001b[38;5;28;43mopen\u001b[39;49m\u001b[43m(\u001b[49m\u001b[43mfilepath\u001b[49m\u001b[43m,\u001b[49m\u001b[43m \u001b[49m\u001b[38;5;124;43m\"\u001b[39;49m\u001b[38;5;124;43mr\u001b[39;49m\u001b[38;5;124;43m\"\u001b[39;49m\u001b[43m)\u001b[49m \u001b[38;5;28;01mas\u001b[39;00m file:\n\u001b[1;32m     72\u001b[0m         lines \u001b[38;5;241m=\u001b[39m file\u001b[38;5;241m.\u001b[39mreadlines()\n\u001b[1;32m     74\u001b[0m     labels \u001b[38;5;241m=\u001b[39m []\n",
      "File \u001b[0;32m/usr/lib/python3.10/codecs.py:309\u001b[0m, in \u001b[0;36mBufferedIncrementalDecoder.__init__\u001b[0;34m(self, errors)\u001b[0m\n\u001b[1;32m    303\u001b[0m \u001b[38;5;28;01mclass\u001b[39;00m \u001b[38;5;21;01mBufferedIncrementalDecoder\u001b[39;00m(IncrementalDecoder):\n\u001b[1;32m    304\u001b[0m \u001b[38;5;250m    \u001b[39m\u001b[38;5;124;03m\"\"\"\u001b[39;00m\n\u001b[1;32m    305\u001b[0m \u001b[38;5;124;03m    This subclass of IncrementalDecoder can be used as the baseclass for an\u001b[39;00m\n\u001b[1;32m    306\u001b[0m \u001b[38;5;124;03m    incremental decoder if the decoder must be able to handle incomplete\u001b[39;00m\n\u001b[1;32m    307\u001b[0m \u001b[38;5;124;03m    byte sequences.\u001b[39;00m\n\u001b[1;32m    308\u001b[0m \u001b[38;5;124;03m    \"\"\"\u001b[39;00m\n\u001b[0;32m--> 309\u001b[0m     \u001b[38;5;28;01mdef\u001b[39;00m \u001b[38;5;21m__init__\u001b[39m(\u001b[38;5;28mself\u001b[39m, errors\u001b[38;5;241m=\u001b[39m\u001b[38;5;124m'\u001b[39m\u001b[38;5;124mstrict\u001b[39m\u001b[38;5;124m'\u001b[39m):\n\u001b[1;32m    310\u001b[0m         IncrementalDecoder\u001b[38;5;241m.\u001b[39m\u001b[38;5;21m__init__\u001b[39m(\u001b[38;5;28mself\u001b[39m, errors)\n\u001b[1;32m    311\u001b[0m         \u001b[38;5;66;03m# undecoded input that is kept between calls to decode()\u001b[39;00m\n",
      "\u001b[0;31mKeyboardInterrupt\u001b[0m: "
     ]
    }
   ],
   "source": [
    "#############################################\n",
    "# Save repetition results for whole dataset #\n",
    "#############################################\n",
    "\n",
    "# Get path to first agent\n",
    "agent_path = agents_path[0]\n",
    "\n",
    "# Load the agent from saved checkpoint\n",
    "agent = ImitativeAgent.reload(agent_path)\n",
    "\n",
    "# Get configuration parameters from agent\n",
    "sound_type = agent.synthesizer.config[\"dataset\"][\"sound_type\"]\n",
    "art_type = agent.synthesizer.config[\"dataset\"][\"art_type\"]\n",
    "synth_dataset = agent.synthesizer.dataset\n",
    "\n",
    "# Set dataset parameters\n",
    "dataset_name = \"pb2007\"  # Using PB2007 can be changed to [\"pb2007\", \"pb2007_speedx2\",\"msak0\", \"fsew0\"]\n",
    "sound_type = \"cepstrum\"  # Using cepstrum features for sound representation\n",
    "art_type = \"art_params\"  # Using articulatory parameters\n",
    "dataset = Dataset(dataset_name)\n",
    "\n",
    "# Load sound features without cutting silences\n",
    "items_cepstrum = dataset.get_items_data(sound_type, cut_silences=False)\n",
    "items_source = dataset.get_items_data(\"source\", cut_silences=False)  # Get source features for LPCNet\n",
    "sampling_rate = dataset.features_config[\"wav_sampling_rate\"]\n",
    "        \n",
    "# Get list of items to process\n",
    "items_name = dataset.get_items_list()\n",
    "\n",
    "# Process each item in dataset\n",
    "for item_name in items_name : \n",
    "        item_name = item_name[1]\n",
    "        # Get cepstrum and source features for current item\n",
    "        item_cepstrum = items_cepstrum[item_name]\n",
    "        item_source = items_source[item_name]\n",
    "        item_wave = dataset.get_item_wave(item_name)\n",
    "        nb_frames = len(item_cepstrum)\n",
    "        \n",
    "        # Get agent's repetition of the item\n",
    "        # This uses inverse model to estimate articulatory params\n",
    "        repetition = agent.repeat(item_cepstrum)\n",
    "        repeated_cepstrum = repetition[\"sound_repeated\"]  # Sound from synthesizer\n",
    "        estimated_cepstrum = repetition[\"sound_estimated\"]  # Sound from direct model\n",
    "        estimated_art = repetition[\"art_estimated\"]  # Estimated articulatory parameters\n",
    "        \n",
    "        # Combine cepstrum with source features for LPCNet synthesis\n",
    "        repeated_sound = np.concatenate((repeated_cepstrum, item_source), axis=1)\n",
    "        estimated_sound = np.concatenate((estimated_cepstrum, item_source), axis=1)\n",
    "\n",
    "        # Synthesize waveforms using LPCNet\n",
    "        repeated_wave = lpcynet.synthesize_frames(repeated_sound)\n",
    "        estimated_wave = lpcynet.synthesize_frames(estimated_sound)\n",
    "\n",
    "        print(\"Original sound:\")\n",
    "        # display(Audio(item_wave, rate=sampling_rate))  # Commented out audio display\n",
    "        print(\"Repetition (Inverse model → Synthesizer → LPCNet):\")\n",
    "        # display(Audio(repeated_wave, rate=sampling_rate))\n",
    "        \n",
    "        # Save repeated sound (inverse model → synthesizer path)\n",
    "        write(f'../datasets/imitative_agent_0jerk/repeated/{dataset_name}/{item_name}.wav',sampling_rate,repeated_wave)\n",
    "        \n",
    "        # Save estimated sound (inverse model → direct model path) \n",
    "        write(f'../datasets/imitative_agent_0jerk/estimated/{dataset_name}/{item_name}.wav',sampling_rate,estimated_wave)"
   ]
  }
 ],
 "metadata": {
  "kernelspec": {
   "display_name": "Python 3",
   "language": "python",
   "name": "python3"
  },
  "language_info": {
   "codemirror_mode": {
    "name": "ipython",
    "version": 3
   },
   "file_extension": ".py",
   "mimetype": "text/x-python",
   "name": "python",
   "nbconvert_exporter": "python",
   "pygments_lexer": "ipython3",
   "version": "3.10.12"
  }
 },
 "nbformat": 4,
 "nbformat_minor": 5
}
